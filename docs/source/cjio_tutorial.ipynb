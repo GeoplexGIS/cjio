{
 "cells": [
  {
   "cell_type": "markdown",
   "metadata": {
    "pycharm": {
     "name": "#%% md\n"
    },
    "slideshow": {
     "slide_type": "slide"
    }
   },
   "source": [
    "# cjio API tutorial\n",
    "\n",
    "In this tutorial we explore what is possible with `cjio`'s API. I refer to `cjio`'s command line interface as *CLI*.\n",
    "\n",
    "The CLI is what you use when you invoke `cjio` from the command line, such as:\n",
    "```\n",
    "$ cjio some_city_model.json validate\n",
    "```\n",
    "\n",
    "The API is what you use from `cjio` when working with a city model in a Python script.\n",
    "\n",
    "**You can play with the executable version of this notebook on Binder** [here](https://mybinder.org/v2/gh/tudelft3d/cjio/develop?filepath=docs%2Fsource%2Fcjio_tutorial.ipynb)"
   ]
  },
  {
   "cell_type": "code",
   "execution_count": 1,
   "metadata": {
    "pycharm": {
     "is_executing": false
    }
   },
   "outputs": [],
   "source": [
    "import os\n",
    "from copy import deepcopy\n",
    "from cjio import cityjson"
   ]
  },
  {
   "cell_type": "markdown",
   "metadata": {
    "pycharm": {
     "name": "#%% md\n"
    }
   },
   "source": [
    "Set up the paths for the tutorial."
   ]
  },
  {
   "cell_type": "code",
   "execution_count": 2,
   "metadata": {
    "pycharm": {
     "is_executing": false,
     "name": "#%%\n"
    }
   },
   "outputs": [],
   "source": [
    "package_dir = os.path.dirname(\n",
    "    os.path.dirname(\n",
    "        os.path.dirname(\n",
    "            os.path.realpath(__name__))))\n",
    "schema_dir = os.path.join(package_dir, 'cjio', 'schemas', '1.0.0')\n",
    "data_dir = os.path.join(package_dir, 'example_data')"
   ]
  },
  {
   "cell_type": "markdown",
   "metadata": {
    "pycharm": {
     "name": "#%% md\n"
    },
    "slideshow": {
     "slide_type": "slide"
    }
   },
   "source": [
    "## Load the city model"
   ]
  },
  {
   "cell_type": "markdown",
   "metadata": {
    "pycharm": {
     "name": "#%% md\n"
    },
    "slideshow": {
     "slide_type": "fragment"
    }
   },
   "source": [
    "We are working with a subset of the city model of Rotterdam. This file is included with `cjio` as an example data set. We can use the online CityJSON viewer at [viewer.cityjson.org](https://viewer.cityjson.org) to quickly visualise the city model.\n",
    "![](../figures/rotterdam_subset.png)"
   ]
  },
  {
   "cell_type": "markdown",
   "metadata": {
    "pycharm": {
     "name": "#%% md\n"
    },
    "slideshow": {
     "slide_type": "fragment"
    }
   },
   "source": [
    "The `load()` method loads a CityJSON file into a CityJSON object."
   ]
  },
  {
   "cell_type": "code",
   "execution_count": 3,
   "metadata": {
    "pycharm": {
     "is_executing": false,
     "name": "#%%\n"
    }
   },
   "outputs": [
    {
     "name": "stdout",
     "text": [
      "<class 'cjio.cityjson.CityJSON'>\n"
     ],
     "output_type": "stream"
    }
   ],
   "source": [
    "path_in = os.path.join(data_dir, 'rotterdam', 'rotterdam_subset.json')\n",
    "cm = cityjson.load(path_in)\n",
    "print(type(cm))"
   ]
  },
  {
   "cell_type": "markdown",
   "metadata": {
    "slideshow": {
     "slide_type": "slide"
    }
   },
   "source": [
    "## Using the CLI commands in the API\n",
    "You can use any of the CLI commands on a CityJSON object. However, not all CLI commands are mapped 1-to-1 to CityJSON methods, plus you need to provide the parameters yourself. The reason for this is that the CLI commands are wrapper functions that take care of passing parameters and parsing outputs. And we haven't harmonized the CLI and the API yet. "
   ]
  },
  {
   "cell_type": "code",
   "execution_count": 4,
   "metadata": {
    "pycharm": {
     "is_executing": false,
     "name": "#%%\n"
    },
    "slideshow": {
     "slide_type": "subslide"
    }
   },
   "outputs": [
    {
     "name": "stdout",
     "text": [
      "-- Validating the syntax of the file\n\t(using the schemas 1.0.0)\n",
      "-- Validating the internal consistency of the file (see docs for list)\n\t--Vertex indices coherent\n\t--Specific for CityGroups\n\t--Semantic arrays coherent with geometry\n\t--Root properties\n\t--Empty geometries\n\t--Duplicate vertices\n\t--Orphan vertices\n\t--CityGML attributes\n"
     ],
     "output_type": "stream"
    },
    {
     "data": {
      "text/plain": "(True,\n False,\n [],\n [\"WARNING: attributes 'TerrainHeight' not in CityGML schema\",\n  '\\t(16 CityObjects have this warning)',\n  \"WARNING: attributes 'bron_tex' not in CityGML schema\",\n  '\\t(16 CityObjects have this warning)',\n  \"WARNING: attributes 'voll_tex' not in CityGML schema\",\n  '\\t(16 CityObjects have this warning)',\n  \"WARNING: attributes 'bron_geo' not in CityGML schema\",\n  '\\t(16 CityObjects have this warning)',\n  \"WARNING: attributes 'status' not in CityGML schema\",\n  '\\t(16 CityObjects have this warning)'])"
     },
     "metadata": {},
     "output_type": "execute_result",
     "execution_count": 4
    }
   ],
   "source": [
    "cm.validate()"
   ]
  },
  {
   "cell_type": "markdown",
   "metadata": {
    "pycharm": {
     "name": "#%% md\n"
    },
    "slideshow": {
     "slide_type": "slide"
    }
   },
   "source": [
    "## Explore the city model"
   ]
  },
  {
   "cell_type": "markdown",
   "metadata": {
    "pycharm": {
     "name": "#%% md\n"
    },
    "slideshow": {
     "slide_type": "subslide"
    }
   },
   "source": [
    "We can print the basic information about the city model. Note that `print()` returns the same information as the `info` command in the CLI."
   ]
  },
  {
   "cell_type": "code",
   "execution_count": 5,
   "metadata": {
    "pycharm": {
     "is_executing": false,
     "name": "#%%\n"
    },
    "slideshow": {
     "slide_type": "subslide"
    }
   },
   "outputs": [
    {
     "name": "stdout",
     "text": [
      "{\n  \"cityjson_version\": \"1.0\",\n  \"epsg\": 7415,\n  \"cityobjects_total\": 16,\n  \"cityobjects_present\": [\n    \"Building\"\n  ],\n  \"vertices_total\": 383,\n  \"transform/compressed\": true,\n  \"geom_primitives_present\": [\n    \"MultiSurface\"\n  ],\n  \"level_of_detail\": [\n    2\n  ],\n  \"semantics_surfaces_present\": [\n    \"WallSurface\",\n    \"GroundSurface\",\n    \"RoofSurface\"\n  ],\n  \"cityobject_attributes\": [\n    \"voll_tex\",\n    \"TerrainHeight\",\n    \"bron_tex\",\n    \"status\",\n    \"bron_geo\"\n  ],\n  \"materials\": false,\n  \"textures\": true\n}\n"
     ],
     "output_type": "stream"
    }
   ],
   "source": [
    "print(cm)"
   ]
  },
  {
   "cell_type": "markdown",
   "metadata": {
    "pycharm": {
     "name": "#%% md\n"
    },
    "slideshow": {
     "slide_type": "slide"
    }
   },
   "source": [
    "## Working with the objects in the model\n",
    "### Getting objects from the model\n",
    "We can get CityObjects by their *type*, or a list of types. Also by their IDs. If no type or ID is provided, `get_cityobjects()` returns all of them, which is equivalent to `cm_r.cityobjects`."
   ]
  },
  {
   "cell_type": "code",
   "execution_count": 6,
   "metadata": {
    "pycharm": {
     "is_executing": false,
     "name": "#%%\n"
    },
    "slideshow": {
     "slide_type": "subslide"
    }
   },
   "outputs": [],
   "source": [
    "buildings = cm.get_cityobjects(type='building')\n",
    "buildings_parts = cm.get_cityobjects(type=['building', 'buildingpart'])\n",
    "\n",
    "r_ids = ['{C9D4A5CF-094A-47DA-97E4-4A3BFD75D3AE}',\n",
    "         '{6271F75F-E8D8-4EE4-AC46-9DB02771A031}']\n",
    "buildings_ids = cm.get_cityobjects(id=r_ids)"
   ]
  },
  {
   "cell_type": "markdown",
   "metadata": {
    "pycharm": {
     "name": "#%% md\n"
    },
    "slideshow": {
     "slide_type": "subslide"
    }
   },
   "source": [
    "### Getting the properties and geometry of objects"
   ]
  },
  {
   "cell_type": "code",
   "execution_count": 7,
   "metadata": {
    "pycharm": {
     "is_executing": false,
     "name": "#%%\n"
    }
   },
   "outputs": [
    {
     "name": "stdout",
     "text": [
      "{\n  \"id\": \"{C9D4A5CF-094A-47DA-97E4-4A3BFD75D3AE}\",\n  \"type\": \"Building\",\n  \"attributes\": {\n    \"TerrainHeight\": 3.03,\n    \"bron_tex\": \"UltraCAM-X 10cm juni 2008\",\n    \"voll_tex\": \"complete\",\n    \"bron_geo\": \"Lidar 15-30 punten - nov. 2008\",\n    \"status\": \"1\"\n  },\n  \"children\": null,\n  \"parents\": null,\n  \"geometry_type\": [\n    \"MultiSurface\"\n  ],\n  \"geometry_lod\": [\n    2\n  ],\n  \"semantic_surfaces\": [\n    \"WallSurface\",\n    \"GroundSurface\",\n    \"RoofSurface\"\n  ]\n}\n"
     ],
     "output_type": "stream"
    }
   ],
   "source": [
    "b01 = buildings_ids['{C9D4A5CF-094A-47DA-97E4-4A3BFD75D3AE}']\n",
    "print(b01)"
   ]
  },
  {
   "cell_type": "markdown",
   "metadata": {
    "pycharm": {
     "name": "#%% md\n"
    }
   },
   "source": [
    "The attributes are stored as a dictionary"
   ]
  },
  {
   "cell_type": "code",
   "execution_count": 8,
   "metadata": {
    "pycharm": {
     "is_executing": false,
     "name": "#%%\n"
    }
   },
   "outputs": [
    {
     "data": {
      "text/plain": "{'TerrainHeight': 3.03,\n 'bron_tex': 'UltraCAM-X 10cm juni 2008',\n 'voll_tex': 'complete',\n 'bron_geo': 'Lidar 15-30 punten - nov. 2008',\n 'status': '1'}"
     },
     "metadata": {},
     "output_type": "execute_result",
     "execution_count": 8
    }
   ],
   "source": [
    "b01.attributes"
   ]
  },
  {
   "cell_type": "markdown",
   "metadata": {
    "pycharm": {
     "name": "#%% md\n"
    }
   },
   "source": [
    "CityObjects can have *children* and *parents*"
   ]
  },
  {
   "cell_type": "code",
   "execution_count": 9,
   "metadata": {
    "pycharm": {
     "is_executing": false,
     "name": "#%%\n"
    }
   },
   "outputs": [
    {
     "data": {
      "text/plain": "True"
     },
     "metadata": {},
     "output_type": "execute_result",
     "execution_count": 9
    }
   ],
   "source": [
    "b01.children is None and b01.parents is None"
   ]
  },
  {
   "cell_type": "markdown",
   "metadata": {
    "pycharm": {
     "name": "#%% md\n"
    }
   },
   "source": [
    "CityObject geometry is a list of `Geometry` objects. That is because a CityObject can have multiple geometry representations in different levels of detail, eg. a geometry in LoD1 and a second geometry in LoD2."
   ]
  },
  {
   "cell_type": "code",
   "execution_count": 10,
   "metadata": {
    "pycharm": {
     "is_executing": false,
     "name": "#%%\n"
    }
   },
   "outputs": [
    {
     "data": {
      "text/plain": "[<cjio.models.Geometry at 0x7f5f93d97400>]"
     },
     "metadata": {},
     "output_type": "execute_result",
     "execution_count": 10
    }
   ],
   "source": [
    "b01.geometry"
   ]
  },
  {
   "cell_type": "code",
   "execution_count": 11,
   "metadata": {
    "pycharm": {
     "is_executing": false,
     "name": "#%%\n"
    }
   },
   "outputs": [
    {
     "name": "stdout",
     "text": [
      "MultiSurface, lod 2\n"
     ],
     "output_type": "stream"
    }
   ],
   "source": [
    "geom = b01.geometry[0]\n",
    "print(\"{}, lod {}\".format(geom.type, geom.lod))"
   ]
  },
  {
   "cell_type": "markdown",
   "metadata": {
    "pycharm": {
     "name": "#%% md\n"
    }
   },
   "source": [
    "### Geometry boundaries and Semantic Surfaces\n",
    "On the contrary to a CityJSON file, the geometry boundaries are dereferenced when working with the API. This means that the vertex coordinates are included in the boundary definition, not only the vertex indices.\n",
    "\n",
    "`cjio` doesn't provide specific geometry classes (yet), eg. MultiSurface or Solid class. If you are working with the geometry boundaries, you need to the geometric operations yourself, or cast the boundary to a geometry-class of some other library. For example `shapely` if 2D is enough.\n",
    "\n",
    "Note that although the boundary is dereferenced, we *do not* apply the coordinate transformation to the vertices. The transformed coordinates (integers) take less space in memory. See for example the original (transformed) coordinates below. "
   ]
  },
  {
   "cell_type": "code",
   "execution_count": 12,
   "metadata": {
    "pycharm": {
     "is_executing": false,
     "name": "#%%\n"
    }
   },
   "outputs": [
    {
     "data": {
      "text/plain": "[[579471, 198217, 10652],\n [578109, 202330, 10652],\n [577149, 200650, 10652],\n [576461, 200406, 10652],\n [577481, 197515, 10652]]"
     },
     "metadata": {},
     "output_type": "execute_result",
     "execution_count": 12
    }
   ],
   "source": [
    "# get the first surface\n",
    "geom.boundaries[0][0]"
   ]
  },
  {
   "cell_type": "markdown",
   "source": [
    "However, applying the transformation is simply done with the `transform()` method. Also note that the Transformation object is an attribute of the city model."
   ],
   "metadata": {
    "collapsed": false,
    "pycharm": {
     "name": "#%% md\n"
    }
   }
  },
  {
   "cell_type": "code",
   "execution_count": 13,
   "outputs": [
    {
     "data": {
      "text/plain": "[(90988.79100000001, 435638.657, 10.652000000000001),\n (90987.429, 435642.77, 10.652000000000001),\n (90986.46900000001, 435641.09, 10.652000000000001),\n (90985.781, 435640.846, 10.652000000000001),\n (90986.801, 435637.955, 10.652000000000001)]"
     },
     "metadata": {},
     "output_type": "execute_result",
     "execution_count": 13
    }
   ],
   "source": [
    "tranformation_object = cm.transform\n",
    "geom_tr = geom.transform(tranformation_object)\n",
    "# get the first surface\n",
    "geom_tr.boundaries[0][0]\n"
   ],
   "metadata": {
    "collapsed": false,
    "pycharm": {
     "name": "#%%\n",
     "is_executing": false
    }
   }
  },
  {
   "cell_type": "markdown",
   "source": [
    "In case you want to transform the whole city model, the best if you apply the transformation when loading it. Note that `\"transform/compressed\": false`."
   ],
   "metadata": {
    "collapsed": false,
    "pycharm": {
     "name": "#%% md\n"
    }
   }
  },
  {
   "cell_type": "code",
   "execution_count": 14,
   "outputs": [
    {
     "name": "stdout",
     "text": [
      "{\n  \"cityjson_version\": \"1.0\",\n  \"epsg\": 7415,\n  \"cityobjects_total\": 16,\n  \"cityobjects_present\": [\n    \"Building\"\n  ],\n  \"vertices_total\": 383,\n  \"transform/compressed\": false,\n  \"geom_primitives_present\": [\n    \"MultiSurface\"\n  ],\n  \"level_of_detail\": [\n    2\n  ],\n  \"semantics_surfaces_present\": [\n    \"WallSurface\",\n    \"GroundSurface\",\n    \"RoofSurface\"\n  ],\n  \"cityobject_attributes\": [\n    \"voll_tex\",\n    \"TerrainHeight\",\n    \"bron_tex\",\n    \"status\",\n    \"bron_geo\"\n  ],\n  \"materials\": false,\n  \"textures\": true\n}\n"
     ],
     "output_type": "stream"
    }
   ],
   "source": [
    "cm_transformed = cityjson.load(path_in, transform=True)\n",
    "print(cm_transformed)"
   ],
   "metadata": {
    "collapsed": false,
    "pycharm": {
     "name": "#%%\n",
     "is_executing": false
    }
   }
  },
  {
   "cell_type": "markdown",
   "metadata": {
    "pycharm": {
     "name": "#%% md\n"
    }
   },
   "source": [
    "Semantic Surfaces are stored in a similar fashion as in a CityJSON file, in the `surfaces` attribute of a Geometry object."
   ]
  },
  {
   "cell_type": "code",
   "execution_count": 15,
   "metadata": {
    "pycharm": {
     "is_executing": false,
     "name": "#%%\n"
    }
   },
   "outputs": [
    {
     "data": {
      "text/plain": "{0: {'surface_idx': [[0], [1], [2]], 'type': 'RoofSurface'},\n 1: {'surface_idx': [[3]], 'type': 'GroundSurface'},\n 2: {'surface_idx': [[4],\n   [5],\n   [6],\n   [7],\n   [8],\n   [9],\n   [10],\n   [11],\n   [12],\n   [13],\n   [14],\n   [15],\n   [16],\n   [17],\n   [18],\n   [19]],\n  'type': 'WallSurface'}}"
     },
     "metadata": {},
     "output_type": "execute_result",
     "execution_count": 15
    }
   ],
   "source": [
    "geom.surfaces"
   ]
  },
  {
   "cell_type": "markdown",
   "metadata": {
    "pycharm": {
     "name": "#%% md\n"
    }
   },
   "source": [
    "The main difference is the presence of the `surface_idx` property. The `surface_idx` is used by the `get_surface_boundaries()` method to efficiently extract the relevant geometry boundaries."
   ]
  },
  {
   "cell_type": "code",
   "execution_count": 16,
   "metadata": {
    "pycharm": {
     "is_executing": false,
     "name": "#%%\n"
    }
   },
   "outputs": [
    {
     "data": {
      "text/plain": "{0: {'surface_idx': [[0], [1], [2]], 'type': 'RoofSurface'}}"
     },
     "metadata": {},
     "output_type": "execute_result",
     "execution_count": 16
    }
   ],
   "source": [
    "roofs = geom.get_surfaces(type='roofsurface')\n",
    "roofs"
   ]
  },
  {
   "cell_type": "code",
   "execution_count": 17,
   "metadata": {
    "pycharm": {
     "is_executing": false,
     "name": "#%%\n"
    }
   },
   "outputs": [
    {
     "data": {
      "text/plain": "[[[[[579471, 198217, 10652],\n    [578109, 202330, 10652],\n    [577149, 200650, 10652],\n    [576461, 200406, 10652],\n    [577481, 197515, 10652]]],\n  [[[580840, 194082, 15211],\n    [579471, 198217, 15211],\n    [577481, 197515, 15211],\n    [576461, 200406, 15211],\n    [572239, 198909, 15211],\n    [571839, 200119, 15211],\n    [571503, 201071, 15211],\n    [566651, 199359, 15211],\n    [569801, 190223, 15211],\n    [573253, 191430, 15211],\n    [574658, 191922, 15211]]],\n  [[[565589, 202439, 11036],\n    [566651, 199359, 11036],\n    [571503, 201071, 11036],\n    [571839, 200119, 11036],\n    [573299, 200640, 11036],\n    [572089, 204029, 11036],\n    [570629, 203440, 11036],\n    [570379, 204150, 11036]]]]]"
     },
     "metadata": {},
     "output_type": "execute_result",
     "execution_count": 17
    }
   ],
   "source": [
    "roof_boundaries = []\n",
    "for r in roofs.values():\n",
    "    roof_boundaries.append(geom.get_surface_boundaries(r))\n",
    "roof_boundaries"
   ]
  },
  {
   "cell_type": "markdown",
   "metadata": {
    "pycharm": {
     "name": "#%% md\n"
    }
   },
   "source": [
    "### Assigning attributes to Semantic Surfaces\n",
    "In order to change or assign an attribute to the SemanticSurfaces of a CityObject we need to,\n",
    "\n",
    "1. extract the surfaces,\n",
    "2. make the changes on the surface,\n",
    "3. overwrite the CityObjects with the changes."
   ]
  },
  {
   "cell_type": "code",
   "execution_count": 18,
   "metadata": {
    "pycharm": {
     "is_executing": false,
     "name": "#%%\n"
    }
   },
   "outputs": [],
   "source": [
    "cm_copy = deepcopy(cm)\n",
    "new_cos = {}\n",
    "for co_id, co in cm_copy.cityobjects.items():\n",
    "    new_geoms = []\n",
    "    for geom in co.geometry:\n",
    "        # Only LoD >= 2 models have semantic surfaces\n",
    "        if geom.lod >= 2.0:\n",
    "            # Extract the surfaces\n",
    "            roofsurfaces = geom.get_surfaces('roofsurface')\n",
    "            for i, rsrf in roofsurfaces.items():\n",
    "                # Change the attributes\n",
    "                if 'attributes' in rsrf.keys():\n",
    "                    rsrf['attributes']['cladding'] = 'tiles'\n",
    "                else:\n",
    "                    rsrf['attributes'] = {}\n",
    "                    rsrf['attributes']['cladding'] = 'tiles'\n",
    "                geom.surfaces[i] = rsrf\n",
    "            new_geoms.append(geom)\n",
    "        else:\n",
    "            # Use the unchanged geometry\n",
    "            new_geoms.append(geom)\n",
    "    co.geometry = new_geoms\n",
    "    new_cos[co_id] = co\n",
    "# Overwrite the CityObjects\n",
    "cm_copy.cityobjects = new_cos"
   ]
  },
  {
   "cell_type": "markdown",
   "metadata": {},
   "source": [
    "### Create new Semantic Surfaces\n",
    "The process is similar as previously. However, in this example we create new SemanticSurfaces that hold the values which we compute from the geometry. The input city model has a single semantic \"WallSurface\", without attributes, for all the walls of a building. The snippet below illustrates how to separate surfaces and assign the semantics to them."
   ]
  },
  {
   "cell_type": "code",
   "execution_count": 19,
   "metadata": {
    "pycharm": {
     "is_executing": false,
     "name": "#%%\n"
    }
   },
   "outputs": [],
   "source": [
    "new_cos = {}\n",
    "\n",
    "for co_id, co in cm_copy.cityobjects.items():\n",
    "    new_geoms = []\n",
    "    \n",
    "    for geom in co.geometry:\n",
    "        if geom.lod >= 2.0:\n",
    "            max_id = max(geom.surfaces.keys())\n",
    "            old_ids = []\n",
    "            \n",
    "            for w_i, wsrf in geom.get_surfaces('wallsurface').items():\n",
    "                old_ids.append(w_i)\n",
    "                del geom.surfaces[w_i]\n",
    "                boundaries = geom.get_surface_boundaries(wsrf)\n",
    "                \n",
    "                for j, boundary_geometry in enumerate(boundaries):\n",
    "                    # The original geometry has the same Semantic for all wall, \n",
    "                    # but we want to divide the wall surfaces by their orientation, \n",
    "                    # thus we need to have the correct surface index\n",
    "                    surface_index = wsrf['surface_idx'][j]\n",
    "                    new_srf = {\n",
    "                        'type': wsrf['type'],\n",
    "                        'surface_idx': surface_index\n",
    "                    }\n",
    "                    \n",
    "                    for multisurface in boundary_geometry:\n",
    "                        # Do any operation here\n",
    "                        x, y, z = multisurface[0]\n",
    "                        if j % 2 > 0:\n",
    "                            orientation = 'north'\n",
    "                        else:\n",
    "                            orientation = 'south'\n",
    "                        \n",
    "                        # Add the new attribute to the surface \n",
    "                        if 'attributes' in wsrf.keys():\n",
    "                            wsrf['attributes']['orientation'] = orientation\n",
    "                        else:\n",
    "                            wsrf['attributes'] = {}\n",
    "                            wsrf['attributes']['orientation'] = orientation\n",
    "                        \n",
    "                        new_srf['attributes'] = wsrf['attributes']\n",
    "                        \n",
    "                        # if w_i in geom.surfaces.keys():\n",
    "                        #     del geom.surfaces[w_i]\n",
    "                        \n",
    "                        max_id = max_id + 1\n",
    "                        geom.surfaces[max_id] = new_srf\n",
    "                        \n",
    "            new_geoms.append(geom)\n",
    "            \n",
    "        else:\n",
    "            # If LoD1, just add the geometry unchanged\n",
    "            new_geoms.append(geom)\n",
    "            \n",
    "    co.geometry = new_geoms\n",
    "    new_cos[co_id] = co\n",
    "    \n",
    "cm_copy.cityobjects = new_cos"
   ]
  },
  {
   "cell_type": "markdown",
   "metadata": {
    "pycharm": {
     "name": "#%% md\n"
    }
   },
   "source": [
    "## Save or Export\n",
    "At the end, the `save()` method saves the edited city model into a CityJSON file."
   ]
  },
  {
   "cell_type": "code",
   "execution_count": 20,
   "metadata": {
    "pycharm": {
     "is_executing": false,
     "name": "#%%\n"
    }
   },
   "outputs": [],
   "source": [
    "p_out = os.path.join(data_dir, 'test_output.json')\n",
    "cityjson.save(cm_copy, p_out)"
   ]
  },
  {
   "cell_type": "markdown",
   "metadata": {
    "pycharm": {
     "name": "#%% md\n"
    }
   },
   "source": [
    "It is also possible to export the city model into a pandas DataFrame. Note that only the CityObject attributes are exported into the dataframe, with CityObject IDs as the index of the dataframe. Thus if you want to export the attributes of SemanticSurfaces for example, then you need to add them as CityObject attributes."
   ]
  },
  {
   "cell_type": "code",
   "execution_count": 21,
   "metadata": {
    "pycharm": {
     "is_executing": false,
     "name": "#%%\n"
    }
   },
   "outputs": [],
   "source": [
    "new_cos = {}\n",
    "for co_id, co in cm_copy.cityobjects.items():\n",
    "    for geom in co.geometry:\n",
    "        for srf in geom.surfaces.values():\n",
    "            if 'attributes' in srf:\n",
    "                for attr,a_v in srf['attributes'].items():\n",
    "                    if (attr not in co.attributes) or (co.attributes[attr] is None):\n",
    "                        co.attributes[attr] = [a_v]\n",
    "                    else:\n",
    "                        co.attributes[attr].append(a_v)\n",
    "    new_cos[co_id] = co\n",
    "cm_copy.cityobjects = new_cos"
   ]
  },
  {
   "cell_type": "code",
   "execution_count": 22,
   "metadata": {
    "pycharm": {
     "is_executing": false,
     "name": "#%%\n"
    }
   },
   "outputs": [
    {
     "data": {
      "text/plain": "                                        TerrainHeight  \\\n{C9D4A5CF-094A-47DA-97E4-4A3BFD75D3AE}           3.03   \n{71B60053-BC28-404D-BAB9-8A642AAC0CF4}           2.68   \n{6271F75F-E8D8-4EE4-AC46-9DB02771A031}           3.12   \n{DE77E78F-B110-43D2-A55C-8B61911192DE}           2.88   \n{19935DFC-F7B3-4D6E-92DD-C48EE1D1519A}           2.82   \n\n                                                              bron_geo  \\\n{C9D4A5CF-094A-47DA-97E4-4A3BFD75D3AE}  Lidar 15-30 punten - nov. 2008   \n{71B60053-BC28-404D-BAB9-8A642AAC0CF4}  Lidar 15-30 punten - nov. 2008   \n{6271F75F-E8D8-4EE4-AC46-9DB02771A031}  Lidar 15-30 punten - nov. 2008   \n{DE77E78F-B110-43D2-A55C-8B61911192DE}  Lidar 15-30 punten - nov. 2008   \n{19935DFC-F7B3-4D6E-92DD-C48EE1D1519A}  Lidar 15-30 punten - nov. 2008   \n\n                                                         bron_tex cladding  \\\n{C9D4A5CF-094A-47DA-97E4-4A3BFD75D3AE}  UltraCAM-X 10cm juni 2008  [tiles]   \n{71B60053-BC28-404D-BAB9-8A642AAC0CF4}  UltraCAM-X 10cm juni 2008  [tiles]   \n{6271F75F-E8D8-4EE4-AC46-9DB02771A031}  UltraCAM-X 10cm juni 2008  [tiles]   \n{DE77E78F-B110-43D2-A55C-8B61911192DE}  UltraCAM-X 10cm juni 2008  [tiles]   \n{19935DFC-F7B3-4D6E-92DD-C48EE1D1519A}  UltraCAM-X 10cm juni 2008  [tiles]   \n\n                                                                              orientation  \\\n{C9D4A5CF-094A-47DA-97E4-4A3BFD75D3AE}  [north, north, north, north, north, north, nor...   \n{71B60053-BC28-404D-BAB9-8A642AAC0CF4}  [north, north, north, north, north, north, nor...   \n{6271F75F-E8D8-4EE4-AC46-9DB02771A031}  [north, north, north, north, north, north, nor...   \n{DE77E78F-B110-43D2-A55C-8B61911192DE}  [north, north, north, north, north, north, nor...   \n{19935DFC-F7B3-4D6E-92DD-C48EE1D1519A}  [south, south, south, south, south, south, sou...   \n\n                                       status  voll_tex  \n{C9D4A5CF-094A-47DA-97E4-4A3BFD75D3AE}      1  complete  \n{71B60053-BC28-404D-BAB9-8A642AAC0CF4}      1  complete  \n{6271F75F-E8D8-4EE4-AC46-9DB02771A031}      1  complete  \n{DE77E78F-B110-43D2-A55C-8B61911192DE}      1  complete  \n{19935DFC-F7B3-4D6E-92DD-C48EE1D1519A}      1  complete  ",
      "text/html": "<div>\n<style scoped>\n    .dataframe tbody tr th:only-of-type {\n        vertical-align: middle;\n    }\n\n    .dataframe tbody tr th {\n        vertical-align: top;\n    }\n\n    .dataframe thead th {\n        text-align: right;\n    }\n</style>\n<table border=\"1\" class=\"dataframe\">\n  <thead>\n    <tr style=\"text-align: right;\">\n      <th></th>\n      <th>TerrainHeight</th>\n      <th>bron_geo</th>\n      <th>bron_tex</th>\n      <th>cladding</th>\n      <th>orientation</th>\n      <th>status</th>\n      <th>voll_tex</th>\n    </tr>\n  </thead>\n  <tbody>\n    <tr>\n      <th>{C9D4A5CF-094A-47DA-97E4-4A3BFD75D3AE}</th>\n      <td>3.03</td>\n      <td>Lidar 15-30 punten - nov. 2008</td>\n      <td>UltraCAM-X 10cm juni 2008</td>\n      <td>[tiles]</td>\n      <td>[north, north, north, north, north, north, nor...</td>\n      <td>1</td>\n      <td>complete</td>\n    </tr>\n    <tr>\n      <th>{71B60053-BC28-404D-BAB9-8A642AAC0CF4}</th>\n      <td>2.68</td>\n      <td>Lidar 15-30 punten - nov. 2008</td>\n      <td>UltraCAM-X 10cm juni 2008</td>\n      <td>[tiles]</td>\n      <td>[north, north, north, north, north, north, nor...</td>\n      <td>1</td>\n      <td>complete</td>\n    </tr>\n    <tr>\n      <th>{6271F75F-E8D8-4EE4-AC46-9DB02771A031}</th>\n      <td>3.12</td>\n      <td>Lidar 15-30 punten - nov. 2008</td>\n      <td>UltraCAM-X 10cm juni 2008</td>\n      <td>[tiles]</td>\n      <td>[north, north, north, north, north, north, nor...</td>\n      <td>1</td>\n      <td>complete</td>\n    </tr>\n    <tr>\n      <th>{DE77E78F-B110-43D2-A55C-8B61911192DE}</th>\n      <td>2.88</td>\n      <td>Lidar 15-30 punten - nov. 2008</td>\n      <td>UltraCAM-X 10cm juni 2008</td>\n      <td>[tiles]</td>\n      <td>[north, north, north, north, north, north, nor...</td>\n      <td>1</td>\n      <td>complete</td>\n    </tr>\n    <tr>\n      <th>{19935DFC-F7B3-4D6E-92DD-C48EE1D1519A}</th>\n      <td>2.82</td>\n      <td>Lidar 15-30 punten - nov. 2008</td>\n      <td>UltraCAM-X 10cm juni 2008</td>\n      <td>[tiles]</td>\n      <td>[south, south, south, south, south, south, sou...</td>\n      <td>1</td>\n      <td>complete</td>\n    </tr>\n  </tbody>\n</table>\n</div>"
     },
     "metadata": {},
     "output_type": "execute_result",
     "execution_count": 22
    }
   ],
   "source": [
    "df = cm_copy.to_dataframe()\n",
    "df.head()"
   ]
  },
  {
   "cell_type": "markdown",
   "metadata": {
    "pycharm": {
     "name": "#%% md\n"
    }
   },
   "source": []
  }
 ],
 "metadata": {
  "celltoolbar": "Slideshow",
  "kernelspec": {
   "display_name": "Python 3",
   "language": "python",
   "name": "python3"
  },
  "language_info": {
   "codemirror_mode": {
    "name": "ipython",
    "version": 3
   },
   "file_extension": ".py",
   "mimetype": "text/x-python",
   "name": "python",
   "nbconvert_exporter": "python",
   "pygments_lexer": "ipython3",
   "version": "3.6.7"
  },
  "pycharm": {
   "stem_cell": {
    "cell_type": "raw",
    "source": [],
    "metadata": {
     "collapsed": false
    }
   }
  }
 },
 "nbformat": 4,
 "nbformat_minor": 1
}